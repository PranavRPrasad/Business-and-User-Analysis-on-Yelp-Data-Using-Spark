{
 "cells": [
  {
   "cell_type": "code",
   "execution_count": 1,
   "metadata": {},
   "outputs": [],
   "source": [
    "import warnings\n",
    "warnings.filterwarnings(\"ignore\")"
   ]
  },
  {
   "cell_type": "code",
   "execution_count": 2,
   "metadata": {},
   "outputs": [],
   "source": [
    "import pandas as pd\n",
    "import numpy as np\n",
    "import matplotlib.pyplot as plt\n",
    "import seaborn as sns"
   ]
  },
  {
   "cell_type": "code",
   "execution_count": 3,
   "metadata": {},
   "outputs": [],
   "source": [
    "sns.set_theme(style=\"whitegrid\")"
   ]
  },
  {
   "cell_type": "code",
   "execution_count": 4,
   "metadata": {},
   "outputs": [],
   "source": [
    "from pyspark.sql import SparkSession"
   ]
  },
  {
   "cell_type": "code",
   "execution_count": 5,
   "metadata": {},
   "outputs": [
    {
     "name": "stderr",
     "output_type": "stream",
     "text": [
      "24/11/24 20:41:06 WARN Utils: Your hostname, yelp resolves to a loopback address: 127.0.1.1; using 10.0.2.15 instead (on interface enp0s17)\n",
      "24/11/24 20:41:06 WARN Utils: Set SPARK_LOCAL_IP if you need to bind to another address\n",
      "Setting default log level to \"WARN\".\n",
      "To adjust logging level use sc.setLogLevel(newLevel). For SparkR, use setLogLevel(newLevel).\n",
      "24/11/24 20:41:08 WARN NativeCodeLoader: Unable to load native-hadoop library for your platform... using builtin-java classes where applicable\n"
     ]
    }
   ],
   "source": [
    "spark = SparkSession.builder \\\n",
    "    .appName(\"Project Milestone 2\") \\\n",
    "    .getOrCreate()"
   ]
  },
  {
   "cell_type": "code",
   "execution_count": 6,
   "metadata": {},
   "outputs": [
    {
     "name": "stderr",
     "output_type": "stream",
     "text": [
      "24/11/24 20:41:45 WARN package: Truncated the string representation of a plan since it was too large. This behavior can be adjusted by setting 'spark.sql.debug.maxToStringFields'.\n"
     ]
    }
   ],
   "source": [
    "business_df = spark.read.json(\"file:///home/dps/Documents/yelp_dataset/yelp_academic_dataset_business.json\")\n",
    "business_df = business_df.withColumnRenamed(\"name\", \"business_name\")"
   ]
  },
  {
   "cell_type": "code",
   "execution_count": 7,
   "metadata": {},
   "outputs": [
    {
     "name": "stderr",
     "output_type": "stream",
     "text": [
      "                                                                                \r"
     ]
    }
   ],
   "source": [
    "review_df = spark.read.json(\"file:///home/dps/Documents/yelp_dataset/yelp_academic_dataset_review.json\")"
   ]
  },
  {
   "cell_type": "code",
   "execution_count": 8,
   "metadata": {},
   "outputs": [],
   "source": [
    "review_df = review_df.withColumnRenamed(\"stars\", \"star_rating\").withColumnRenamed(\"cool\", \"cool_votes\").withColumnRenamed(\"funny\", \"funny_votes\").withColumnRenamed(\"useful\", \"useful_votes\")"
   ]
  },
  {
   "cell_type": "code",
   "execution_count": 9,
   "metadata": {},
   "outputs": [
    {
     "name": "stderr",
     "output_type": "stream",
     "text": [
      "                                                                                \r"
     ]
    }
   ],
   "source": [
    "user_df = spark.read.json(\"file:///home/dps/Documents/yelp_dataset/yelp_academic_dataset_user.json\")"
   ]
  },
  {
   "cell_type": "code",
   "execution_count": 10,
   "metadata": {},
   "outputs": [],
   "source": [
    "user_df = user_df.withColumnRenamed(\"review_count\", \"user_review_count\").withColumnRenamed(\"name\", \"user_name\")"
   ]
  },
  {
   "cell_type": "code",
   "execution_count": 11,
   "metadata": {},
   "outputs": [],
   "source": [
    "airport_shuttles_az_business_df = business_df.filter(\n",
    "    (business_df.categories.contains(\"Airport Shuttles\")) & (business_df.state == \"AZ\")\n",
    ")"
   ]
  },
  {
   "cell_type": "code",
   "execution_count": 12,
   "metadata": {},
   "outputs": [],
   "source": [
    "review_df = review_df.withColumnRenamed(\"business_id\", \"review_business_id\").withColumnRenamed(\"user_id\", \"review_user_id\")"
   ]
  },
  {
   "cell_type": "code",
   "execution_count": 13,
   "metadata": {},
   "outputs": [],
   "source": [
    "airport_shuttles_az_business_review_df = airport_shuttles_az_business_df.join(\n",
    "    review_df, \n",
    "    airport_shuttles_az_business_df.business_id == review_df.review_business_id, \n",
    "    \"inner\"\n",
    ")"
   ]
  },
  {
   "cell_type": "code",
   "execution_count": 14,
   "metadata": {},
   "outputs": [],
   "source": [
    "airport_shuttles_az_business_review_user_df = airport_shuttles_az_business_review_df.join(\n",
    "    user_df, \n",
    "    airport_shuttles_az_business_review_df.review_user_id == user_df.user_id, \n",
    "    \"inner\"\n",
    ")"
   ]
  },
  {
   "cell_type": "code",
   "execution_count": 15,
   "metadata": {},
   "outputs": [],
   "source": [
    "# airport_shuttles_az_business_review_user_df.show()"
   ]
  },
  {
   "cell_type": "code",
   "execution_count": 16,
   "metadata": {},
   "outputs": [],
   "source": [
    "# airport_shuttles_az_business_review_user_df.printSchema()"
   ]
  },
  {
   "cell_type": "code",
   "execution_count": 17,
   "metadata": {},
   "outputs": [],
   "source": [
    "airport_shuttles_az_business_review_user_df.createOrReplaceTempView(\"airport_shuttles_az_business_review_user\")"
   ]
  },
  {
   "cell_type": "code",
   "execution_count": 18,
   "metadata": {},
   "outputs": [
    {
     "name": "stderr",
     "output_type": "stream",
     "text": [
      "[Stage 9:>                                                          (0 + 4) / 4]\r"
     ]
    },
    {
     "name": "stdout",
     "output_type": "stream",
     "text": [
      "+--------------------+---------+-------------+------------------------+\n",
      "|             user_id|user_name|total_reviews|average_reviews_per_user|\n",
      "+--------------------+---------+-------------+------------------------+\n",
      "|hxkx6UYltlrjKmow0...|  Richard|            4|                   38.75|\n",
      "|hdLToS_AFNyqUzzcZ...|        D|            2|                    35.5|\n",
      "|PLe2TWa02y1C7gnHE...|      Ess|            2|                    80.0|\n",
      "|h8yn-q-yMwcB9o9Yp...|     Kurt|            2|                    43.0|\n",
      "|ifbY7DlrQep2hxR8W...| Jennifer|            2|                    43.0|\n",
      "|6q5HEqARkPW8XJ1Kd...|     Mike|            2|                     5.0|\n",
      "|sOGVdjTzOMNMlVs1R...|     Dave|            2|                    47.5|\n",
      "|0UJDp8VclFMcuCdyC...|    Susan|            2|                    17.0|\n",
      "|jZO9ZG_9mf34bEzpZ...|     Mary|            2|                    41.0|\n",
      "|aeZ4drQkBXcqt8oft...|   Connie|            2|                    31.0|\n",
      "+--------------------+---------+-------------+------------------------+\n",
      "\n"
     ]
    },
    {
     "name": "stderr",
     "output_type": "stream",
     "text": [
      "                                                                                \r"
     ]
    }
   ],
   "source": [
    "query1 = \"\"\"\n",
    "SELECT \n",
    "    user_id, user_name,\n",
    "    COUNT(review_id) AS total_reviews,\n",
    "    AVG(review_count) AS average_reviews_per_user\n",
    "FROM \n",
    "    airport_shuttles_az_business_review_user\n",
    "GROUP BY \n",
    "    user_id, user_name\n",
    "ORDER BY \n",
    "    total_reviews DESC\n",
    "LIMIT 10;\n",
    "\"\"\"\n",
    "result1_df = spark.sql(query1)\n",
    "result1_df.show()"
   ]
  },
  {
   "cell_type": "code",
   "execution_count": 19,
   "metadata": {},
   "outputs": [
    {
     "name": "stderr",
     "output_type": "stream",
     "text": [
      "                                                                                \r"
     ]
    },
    {
     "name": "stdout",
     "output_type": "stream",
     "text": [
      "+--------------------+---------+--------------+\n",
      "|             user_id|user_name|average_rating|\n",
      "+--------------------+---------+--------------+\n",
      "|h1mqMg_yZYFsZyUwX...|    Jason|           5.0|\n",
      "|sBHS_gL9aTaTbTAcd...|    Chris|           5.0|\n",
      "|4GMA5-2pJUkJEMP13...|      Liz|           5.0|\n",
      "|GNI3DTA6MxKRCEra7...| Margaret|           5.0|\n",
      "|m87M-ni_44265eC9N...|    Cliff|           5.0|\n",
      "|uL_O5y1kWF9fKfqm3...|     Jeff|           5.0|\n",
      "|UPw4i_dJGhD816fO2...|    Kathy|           5.0|\n",
      "|rTkuBc-7QRMi6RyMl...|    Jenny|           5.0|\n",
      "|FoqH7EIs8C6RfLBrK...|   Glenna|           5.0|\n",
      "|8xRPstWwX3i6H1Ir0...|  Suzanne|           5.0|\n",
      "+--------------------+---------+--------------+\n",
      "\n"
     ]
    }
   ],
   "source": [
    "query2 = \"\"\"\n",
    "SELECT \n",
    "    user_id, user_name,\n",
    "    AVG(stars) AS average_rating\n",
    "FROM \n",
    "    airport_shuttles_az_business_review_user\n",
    "GROUP BY \n",
    "    user_id, user_name\n",
    "ORDER BY \n",
    "    average_rating DESC\n",
    "LIMIT 10;\n",
    "\"\"\"\n",
    "result2_df = spark.sql(query2)\n",
    "result2_df.show()"
   ]
  },
  {
   "cell_type": "code",
   "execution_count": 20,
   "metadata": {},
   "outputs": [
    {
     "name": "stderr",
     "output_type": "stream",
     "text": [
      "[Stage 23:>                                                         (0 + 4) / 4]\r"
     ]
    },
    {
     "name": "stdout",
     "output_type": "stream",
     "text": [
      "+--------------------+---------+----------------+----------------+------------------+-----------------+-----------------+-------------+\n",
      "|             user_id|user_name|one_star_reviews|two_star_reviews|three_star_reviews|four_star_reviews|five_star_reviews|total_reviews|\n",
      "+--------------------+---------+----------------+----------------+------------------+-----------------+-----------------+-------------+\n",
      "|FeKl8hk3YJEDpSI9u...|     Ceci|               0|               0|                 0|                0|                2|            2|\n",
      "|0P1NJINYHPx6iv00c...|    Nancy|               0|               0|                 0|                0|                2|            2|\n",
      "|rQ996HkaGPnVrheBM...|    Becky|               0|               0|                 0|                0|                1|            1|\n",
      "|hj4mHoNIFUnZV11dL...|    Kelly|               0|               0|                 0|                0|                1|            1|\n",
      "|-ou42X2Ny3erNTjUm...|    Tommy|               0|               0|                 0|                0|                1|            1|\n",
      "|mhggVyOSytg4yzI24...|    Julie|               0|               0|                 0|                0|                1|            1|\n",
      "|b6WRBVDieqwei4wC1...|    Ricky|               0|               0|                 1|                0|                0|            1|\n",
      "|4GMA5-2pJUkJEMP13...|      Liz|               0|               0|                 0|                0|                1|            1|\n",
      "|zdzu2Gvci6rNwpS0q...|    Jason|               0|               0|                 0|                0|                1|            1|\n",
      "|GOST9h1XDfgpFCD8K...|        J|               0|               0|                 0|                0|                1|            1|\n",
      "+--------------------+---------+----------------+----------------+------------------+-----------------+-----------------+-------------+\n",
      "\n"
     ]
    },
    {
     "name": "stderr",
     "output_type": "stream",
     "text": [
      "                                                                                \r"
     ]
    }
   ],
   "source": [
    "query3 = \"\"\"\n",
    "SELECT \n",
    "    user_id, user_name,\n",
    "    SUM(CASE WHEN stars = 1 THEN 1 ELSE 0 END) AS one_star_reviews,\n",
    "    SUM(CASE WHEN stars = 2 THEN 1 ELSE 0 END) AS two_star_reviews,\n",
    "    SUM(CASE WHEN stars = 3 THEN 1 ELSE 0 END) AS three_star_reviews,\n",
    "    SUM(CASE WHEN stars = 4 THEN 1 ELSE 0 END) AS four_star_reviews,\n",
    "    SUM(CASE WHEN stars = 5 THEN 1 ELSE 0 END) AS five_star_reviews,\n",
    "    SUM(CASE WHEN stars IN (1, 2, 3, 4, 5) THEN 1 ELSE 0 END) AS total_reviews\n",
    "FROM \n",
    "    airport_shuttles_az_business_review_user\n",
    "GROUP BY \n",
    "    user_id, user_name\n",
    "HAVING \n",
    "    total_reviews > 0\n",
    "ORDER BY \n",
    "    total_reviews DESC\n",
    "LIMIT 10;\n",
    "\"\"\"\n",
    "result3_df = spark.sql(query3)\n",
    "result3_df.show()"
   ]
  },
  {
   "cell_type": "code",
   "execution_count": 21,
   "metadata": {},
   "outputs": [
    {
     "name": "stderr",
     "output_type": "stream",
     "text": [
      "[Stage 30:>                                                         (0 + 4) / 4]\r"
     ]
    },
    {
     "name": "stdout",
     "output_type": "stream",
     "text": [
      "+--------------------+---------+----------------------------+\n",
      "|             user_id|user_name|distinct_businesses_reviewed|\n",
      "+--------------------+---------+----------------------------+\n",
      "|hxkx6UYltlrjKmow0...|  Richard|                           3|\n",
      "|cynJeGho1spyXikHu...|    Aisha|                           2|\n",
      "|6ObFF8-uKnOAlXuSH...| Isabella|                           2|\n",
      "|hdLToS_AFNyqUzzcZ...|        D|                           2|\n",
      "|03PwpkTJp58iIXvxS...|    Marco|                           2|\n",
      "|sOGVdjTzOMNMlVs1R...|     Dave|                           2|\n",
      "|PhS18gKbR5JUXQiGJ...|      Mel|                           2|\n",
      "|TIlbuLIsGLISCoI9p...|  Jessica|                           2|\n",
      "|0yrF14nWVAFeI0fG2...|    Betsy|                           2|\n",
      "|bExwGidB4Sq9QqAHv...|    Linda|                           2|\n",
      "|AniKUwEfQ_EkkZ8hf...|  Heather|                           2|\n",
      "+--------------------+---------+----------------------------+\n",
      "\n"
     ]
    },
    {
     "name": "stderr",
     "output_type": "stream",
     "text": [
      "                                                                                \r"
     ]
    }
   ],
   "source": [
    "query4 = \"\"\"\n",
    "SELECT user_id, user_name, COUNT(DISTINCT business_id) AS distinct_businesses_reviewed\n",
    "FROM airport_shuttles_az_business_review_user\n",
    "GROUP BY user_id, user_name\n",
    "HAVING COUNT(DISTINCT business_id) > 1\n",
    "ORDER BY distinct_businesses_reviewed DESC\n",
    "\"\"\"\n",
    "result4_df = spark.sql(query4)\n",
    "result4_df.show()"
   ]
  },
  {
   "cell_type": "code",
   "execution_count": 22,
   "metadata": {},
   "outputs": [],
   "source": [
    "# airport_shuttles_az_business_review_df.printSchema()"
   ]
  },
  {
   "cell_type": "code",
   "execution_count": 23,
   "metadata": {},
   "outputs": [],
   "source": [
    "# airport_shuttles_az_business_review_user_df.printSchema()"
   ]
  },
  {
   "cell_type": "code",
   "execution_count": 24,
   "metadata": {},
   "outputs": [],
   "source": [
    "airport_shuttles_az_business_review_df.createOrReplaceTempView(\"business_reviews\")\n",
    "airport_shuttles_az_business_review_user_df.createOrReplaceTempView(\"user_reviews\")"
   ]
  },
  {
   "cell_type": "code",
   "execution_count": 25,
   "metadata": {},
   "outputs": [
    {
     "name": "stderr",
     "output_type": "stream",
     "text": [
      "                                                                                \r"
     ]
    },
    {
     "name": "stdout",
     "output_type": "stream",
     "text": [
      "+----------------------+---------+----+-----------------+--------------------------------------------------+-------------------+------------------------+-----------+--------------------------------------------------------------------------------------------------------------------------------------------------------------------------------------------------------------------------------------------------------------------------------------------------------------------------------------------------------------------------------------------------------------------------------------------------------------------------------------------------------------------------------------------------------------------------------------------------------------------------------------------------------------------------------------------------------------------------------------------------------------------------------------------------------------------------------------------------------------------------------------------------------------------------------------------------------------------------------------------------------------------------------------------------------------------------------------------------------------------------------------------------------------------------------------------------------------------------------------------------------------------------------------------------------------------------------------------------+----------------------+\n",
      "|user_id               |user_name|fans|user_review_count|elite                                             |yelping_since      |business_name           |star_rating|review_text                                                                                                                                                                                                                                                                                                                                                                                                                                                                                                                                                                                                                                                                                                                                                                                                                                                                                                                                                                                                                                                                                                                                                                                                                                                                                                                                       |review_id             |\n",
      "+----------------------+---------+----+-----------------+--------------------------------------------------+-------------------+------------------------+-----------+--------------------------------------------------------------------------------------------------------------------------------------------------------------------------------------------------------------------------------------------------------------------------------------------------------------------------------------------------------------------------------------------------------------------------------------------------------------------------------------------------------------------------------------------------------------------------------------------------------------------------------------------------------------------------------------------------------------------------------------------------------------------------------------------------------------------------------------------------------------------------------------------------------------------------------------------------------------------------------------------------------------------------------------------------------------------------------------------------------------------------------------------------------------------------------------------------------------------------------------------------------------------------------------------------------------------------------------------------+----------------------+\n",
      "|jZO9ZG_9mf34bEzpZCZKsg|Mary     |7   |170              |2017,2019                                         |2008-04-02 03:16:27|Arizona Stagecoach      |4.0        |SO an update--Spoke to Shani and she was extremely helpful and took care of my reservation over the phone as I was having trouble on the website. \\n\\nAnyway--just wanted to say the service was great. Hopefully the pickup will be just as good.                                                                                                                                                                                                                                                                                                                                                                                                                                                                                                                                                                                                                                                                                                                                                                                                                                                                                                                                                                                                                                                                                                |NiomSUy7vrddAkOlhCBZPw|\n",
      "|jZO9ZG_9mf34bEzpZCZKsg|Mary     |7   |170              |2017,2019                                         |2008-04-02 03:16:27|Arizona Stagecoach      |4.0        |I've been using this service for my son, to and from the airport. It's been great! Always on time, no problem...\\n\\nUNTIL...this last week. The shuttle ALWAYS ALWAYS is on time. This time it wasn't 10 min past and my son called.\\n10 min again, and no shuttle. At this point he called a cab--probably cause I have him so paranoid to get to the airport way ahead of time. \\n\\nAnyway--stuff happens. Whatever. I called the number and asked if I could just get the credit for next time. Needless to say I was not met with a happy person.\\n\\nI asked for a call back from someone that COULD help me and I got a call the next day. Linda was EXTREMELY WONDERFUL and nice! She listened and apologized, even tho it wasn't her fault. Needless to say, I have a credit for next time.\\n\\nTrust me--it wasn't about $14 or being late. It was about the service on the phone. I told my son to always have a back up because we know, things happen.\\n\\nSo, Linda--you saved the day!! Thank you for your courteous service and understanding. We will stick with AZ Stagecoach.                                                                                                                                                                                                                                                      |wfUqHrIxK7X5pFcOIKycBg|\n",
      "|jZO9ZG_9mf34bEzpZCZKsg|Mary     |7   |170              |2017,2019                                         |2008-04-02 03:16:27|Arizona Stagecoach      |4.0        |SO an update--Spoke to Shani and she was extremely helpful and took care of my reservation over the phone as I was having trouble on the website. \\n\\nAnyway--just wanted to say the service was great. Hopefully the pickup will be just as good.                                                                                                                                                                                                                                                                                                                                                                                                                                                                                                                                                                                                                                                                                                                                                                                                                                                                                                                                                                                                                                                                                                |NiomSUy7vrddAkOlhCBZPw|\n",
      "|jZO9ZG_9mf34bEzpZCZKsg|Mary     |7   |170              |2017,2019                                         |2008-04-02 03:16:27|Arizona Stagecoach      |4.0        |I've been using this service for my son, to and from the airport. It's been great! Always on time, no problem...\\n\\nUNTIL...this last week. The shuttle ALWAYS ALWAYS is on time. This time it wasn't 10 min past and my son called.\\n10 min again, and no shuttle. At this point he called a cab--probably cause I have him so paranoid to get to the airport way ahead of time. \\n\\nAnyway--stuff happens. Whatever. I called the number and asked if I could just get the credit for next time. Needless to say I was not met with a happy person.\\n\\nI asked for a call back from someone that COULD help me and I got a call the next day. Linda was EXTREMELY WONDERFUL and nice! She listened and apologized, even tho it wasn't her fault. Needless to say, I have a credit for next time.\\n\\nTrust me--it wasn't about $14 or being late. It was about the service on the phone. I told my son to always have a back up because we know, things happen.\\n\\nSo, Linda--you saved the day!! Thank you for your courteous service and understanding. We will stick with AZ Stagecoach.                                                                                                                                                                                                                                                      |wfUqHrIxK7X5pFcOIKycBg|\n",
      "|6ObFF8-uKnOAlXuSH4TlyQ|Isabella |824 |1245             |2012,2013,2014,2015,2016,2017,2018,2019,20,20,2021|2011-02-06 18:09:09|Yellow Cab              |2.0        |It's rare that I leave such a short review. But to wait over an hour for a cab is out of control. And when you call nicely to check on status and get hung up on even worse. Two stars because the can driver ended up being semi decent. Can services in Tucson leave alot to be desired.                                                                                                                                                                                                                                                                                                                                                                                                                                                                                                                                                                                                                                                                                                                                                                                                                                                                                                                                                                                                                                                        |TuI_76Fa9x-vsBMXX0zpkQ|\n",
      "|6ObFF8-uKnOAlXuSH4TlyQ|Isabella |824 |1245             |2012,2013,2014,2015,2016,2017,2018,2019,20,20,2021|2011-02-06 18:09:09|Sky Harbor Express      |5.0        |Riding a shuttle for an hour and twenty minutes is like the last thing I want to do when traveling. I'm all for convenience and comfort, so I often fly out of Tucson and end up paying for it with higher ticket prices or longer travel times. Since there are no direct flights to San Francisco, I had no choice but to take a shuttle. After reading through several listings I was impressed to see the reviews for Sky Harbor Express and booked a seat.\\n\\nReserving on line is super easy, you pay in advance and receive an e-confirmation right away Additionally, they send an e-reminder and a text message the day of to let you know the shuttle is arriving! The shuttle was super clean, air conditioned and the driver was professional and punctual. The shuttle wasn't full, so seating was comfortable, although I'm sure a full house would be pretty cozy, but that comes with the (shuttle) territory, I guess. Our driver Robert also offered us water, which was a nice touch! $29 is more than fair  for the high quality cars and service provided. I hope they can continue to offer this competitive pricing. Other shuttles in the area charge about $49 for lower quality and older vehicles. What's up with that!? Sky Harbor Shuttle just earned a new customer. In short- if you need a shuttle book with them!|ScZlPbdxDM9n1ZWWhGBJKQ|\n",
      "|6ObFF8-uKnOAlXuSH4TlyQ|Isabella |824 |1245             |2012,2013,2014,2015,2016,2017,2018,2019,20,20,2021|2011-02-06 18:09:09|Yellow Cab              |2.0        |It's rare that I leave such a short review. But to wait over an hour for a cab is out of control. And when you call nicely to check on status and get hung up on even worse. Two stars because the can driver ended up being semi decent. Can services in Tucson leave alot to be desired.                                                                                                                                                                                                                                                                                                                                                                                                                                                                                                                                                                                                                                                                                                                                                                                                                                                                                                                                                                                                                                                        |TuI_76Fa9x-vsBMXX0zpkQ|\n",
      "|6ObFF8-uKnOAlXuSH4TlyQ|Isabella |824 |1245             |2012,2013,2014,2015,2016,2017,2018,2019,20,20,2021|2011-02-06 18:09:09|Sky Harbor Express      |5.0        |Riding a shuttle for an hour and twenty minutes is like the last thing I want to do when traveling. I'm all for convenience and comfort, so I often fly out of Tucson and end up paying for it with higher ticket prices or longer travel times. Since there are no direct flights to San Francisco, I had no choice but to take a shuttle. After reading through several listings I was impressed to see the reviews for Sky Harbor Express and booked a seat.\\n\\nReserving on line is super easy, you pay in advance and receive an e-confirmation right away Additionally, they send an e-reminder and a text message the day of to let you know the shuttle is arriving! The shuttle was super clean, air conditioned and the driver was professional and punctual. The shuttle wasn't full, so seating was comfortable, although I'm sure a full house would be pretty cozy, but that comes with the (shuttle) territory, I guess. Our driver Robert also offered us water, which was a nice touch! $29 is more than fair  for the high quality cars and service provided. I hope they can continue to offer this competitive pricing. Other shuttles in the area charge about $49 for lower quality and older vehicles. What's up with that!? Sky Harbor Shuttle just earned a new customer. In short- if you need a shuttle book with them!|ScZlPbdxDM9n1ZWWhGBJKQ|\n",
      "|4kKngcDGjuzo18pxx5jHog|Amanda   |41  |409              |2010,2011,2012,2013,2014,2015,2016                |2007-06-20 20:27:48|FastPark & Relax        |5.0        |This place is great. They pick you up at your car. Give you a ticket with your exact location. They only pick up four or five people at a time. Occasionally I have been with more and with less. \\n\\nWhen you return, same great experience. They drop you off at your vehicle and put your luggage in your car for you. You are offered complimentary water and newspapers, and I can always get in and out very quickly. \\n\\nAll the parking is covered, and you can earn free days of parking with the membership card. In addition, I witnessed one of the drivers personally help a couple with a car that wouldn't start. He went above and beyond, and I am sure that couple was very thankful.                                                                                                                                                                                                                                                                                                                                                                                                                                                                                                                                                                                                                                           |fnKEHd_cN0t_Q6QLm1l1Dg|\n",
      "|EXmYLalc6AEEy4VHfqXnCw|Hilary   |14  |115              |2011,2012                                         |2011-09-02 14:37:25|Quick Park Quick Shuttle|5.0        |LOVED Quick Park while living in Tucson and used it every time I had to drive myself to the airport.  It was cheap, reliable, and (to live up to its name) Quick! They also offer a LOT of covered parking (I believe it has been expanded since the post below mine).  I easily found covered spaces on several occasions.\\n\\nThe other review is also spot-on about price - only $3.99 per day but $3.59 per day if you bring in the internet coupon, which I think I used 3 or 4 times.  It's hardly ever crowded so when you drive in, they bring the shuttle to your car, write you a card with your spot number, and drive you the 3 minutes it takes to get to the airport, right up to your gate.  Drivers are always friendly and helpful.\\n\\nUpon arriving back in Tucson, I don't think I ever waited more than 5-10 minutes for a shuttle to pick me up, though it was usually waiting when I arrived.  Highly recommend using this place - you can't beat it!                                                                                                                                                                                                                                                                                                                                                                        |CLIE0j0jK-t9L_23NLx6jA|\n",
      "+----------------------+---------+----+-----------------+--------------------------------------------------+-------------------+------------------------+-----------+--------------------------------------------------------------------------------------------------------------------------------------------------------------------------------------------------------------------------------------------------------------------------------------------------------------------------------------------------------------------------------------------------------------------------------------------------------------------------------------------------------------------------------------------------------------------------------------------------------------------------------------------------------------------------------------------------------------------------------------------------------------------------------------------------------------------------------------------------------------------------------------------------------------------------------------------------------------------------------------------------------------------------------------------------------------------------------------------------------------------------------------------------------------------------------------------------------------------------------------------------------------------------------------------------------------------------------------------------+----------------------+\n",
      "only showing top 10 rows\n",
      "\n"
     ]
    }
   ],
   "source": [
    "query5 = spark.sql(\"\"\"\n",
    "    SELECT \n",
    "        u.user_id,\n",
    "        u.user_name,\n",
    "        u.fans,\n",
    "        u.user_review_count,\n",
    "        u.elite,\n",
    "        u.yelping_since,\n",
    "        b.business_name,\n",
    "        b.star_rating,\n",
    "        b.text AS review_text,\n",
    "        b.review_id\n",
    "    FROM \n",
    "        user_reviews u\n",
    "    INNER JOIN \n",
    "        business_reviews b\n",
    "    ON \n",
    "        u.review_user_id = b.review_user_id\n",
    "\"\"\")\n",
    "query5.show(10, truncate=False)"
   ]
  },
  {
   "cell_type": "code",
   "execution_count": 26,
   "metadata": {},
   "outputs": [
    {
     "name": "stderr",
     "output_type": "stream",
     "text": [
      "[Stage 46:=====================================================>  (38 + 2) / 40]\r"
     ]
    },
    {
     "name": "stdout",
     "output_type": "stream",
     "text": [
      "+----------------------------------+------+-----+----------------------+-----------------+-------------------+------------------+-----------------+----------------+\n",
      "|business_name                     |city  |state|business_average_stars|user_review_count|average_user_rating|total_useful_votes|total_funny_votes|total_cool_votes|\n",
      "+----------------------------------+------+-----+----------------------+-----------------+-------------------+------------------+-----------------+----------------+\n",
      "|Arizona Shuttle Service           |Tucson|AZ   |2.5                   |6724             |2.6463414634146343 |15498             |2706             |1886            |\n",
      "|Arizona Stagecoach                |Tucson|AZ   |2.5                   |1936             |2.522727272727273  |6820              |1408             |1364            |\n",
      "|FastPark & Relax                  |Tucson|AZ   |4.5                   |2209             |4.468085106382978  |4089              |517              |752             |\n",
      "|Sky Harbor Express                |Tucson|AZ   |4.5                   |1156             |4.323529411764706  |3128              |612              |748             |\n",
      "|Quick Park Quick Shuttle          |Tucson|AZ   |3.5                   |784              |3.642857142857143  |2968              |112              |336             |\n",
      "|Yellow Cab                        |Tucson|AZ   |1.5                   |1600             |1.55               |2480              |960              |200             |\n",
      "|Tucson Airport Cab by 520 Express |Tucson|AZ   |4.5                   |784              |4.5                |1708              |196              |252             |\n",
      "|24hr Express                      |Tucson|AZ   |5.0                   |529              |5.0                |1334              |23               |46              |\n",
      "|Groome Transportation             |Tucson|AZ   |2.5                   |484              |2.3181818181818183 |462               |88               |88              |\n",
      "|Tucson Resort Transportation      |Tuscon|AZ   |4.5                   |324              |4.722222222222222  |450               |108              |162             |\n",
      "+----------------------------------+------+-----+----------------------+-----------------+-------------------+------------------+-----------------+----------------+\n",
      "only showing top 10 rows\n",
      "\n"
     ]
    },
    {
     "name": "stderr",
     "output_type": "stream",
     "text": [
      "                                                                                \r"
     ]
    }
   ],
   "source": [
    "query6 = \"\"\"\n",
    "SELECT\n",
    "    br.business_name,\n",
    "    br.city,\n",
    "    br.state,\n",
    "    br.stars AS business_average_stars,\n",
    "    COUNT(ur.review_id) AS user_review_count,\n",
    "    AVG(ur.star_rating) AS average_user_rating,\n",
    "    SUM(ur.useful_votes) AS total_useful_votes,\n",
    "    SUM(ur.funny_votes) AS total_funny_votes,\n",
    "    SUM(ur.cool_votes) AS total_cool_votes\n",
    "FROM\n",
    "    business_reviews br\n",
    "JOIN\n",
    "    user_reviews ur\n",
    "ON\n",
    "    br.business_id = ur.business_id\n",
    "WHERE\n",
    "    br.review_count > 10\n",
    "GROUP BY\n",
    "    br.business_name, br.city, br.state, br.stars\n",
    "ORDER BY\n",
    "    total_useful_votes DESC\n",
    "LIMIT 100;\n",
    "\"\"\"\n",
    "result6_df = spark.sql(query6)\n",
    "result6_df.show(10, truncate=False)"
   ]
  },
  {
   "cell_type": "code",
   "execution_count": 27,
   "metadata": {},
   "outputs": [
    {
     "name": "stderr",
     "output_type": "stream",
     "text": [
      "[Stage 73:>                                                         (0 + 4) / 4]\r"
     ]
    },
    {
     "name": "stdout",
     "output_type": "stream",
     "text": [
      "+----------------------------------+------+-----+------------+------------------+------------------+-----------------+-----------------+-------------------+\n",
      "|business_name                     |city  |state|review_count|business_avg_stars|user_avg_stars    |user_review_count|total_compliments|yelping_since      |\n",
      "+----------------------------------+------+-----+------------+------------------+------------------+-----------------+-----------------+-------------------+\n",
      "|24hr Express                      |Tucson|AZ   |23          |5.0               |4.299999999999998 |5382             |115              |2016-10-05 19:41:23|\n",
      "|Adobe Transportation              |Tucson|AZ   |7           |4.5               |4.37              |2002             |525              |2015-07-05 19:00:19|\n",
      "|Arizona Shuttle Service           |Tucson|AZ   |80          |2.5               |3.7666666666666635|345794           |152438           |2017-01-04 01:24:10|\n",
      "|Arizona Stagecoach                |Tucson|AZ   |41          |2.5               |4.092222222222223 |79112            |42460            |2014-03-16 00:42:21|\n",
      "|B Express Cab Co.                 |Tucson|AZ   |5           |3.5               |3.66              |590              |30               |2009-11-13 20:37:06|\n",
      "|FastPark & Relax                  |Tucson|AZ   |43          |4.5               |3.885200000000022 |363686           |72239            |2014-04-23 04:19:08|\n",
      "|Groome Transportation             |Tucson|AZ   |21          |2.5               |4.0699999999999985|16368            |4664             |2011-12-27 22:10:19|\n",
      "|Jeannie's Van & Taxi Service      |Tucson|AZ   |13          |3.0               |3.774999999999999 |4667             |936              |2009-09-05 21:23:36|\n",
      "|Limoport Transportation           |Tucson|AZ   |17          |5.0               |3.9100000000000015|6222             |5933             |2011-02-19 02:56:27|\n",
      "|MBL Transportation                |Tucson|AZ   |7           |4.5               |3.759999999999999 |1064             |28               |2013-03-27 17:36:13|\n",
      "|Mountain View Tours               |Tucson|AZ   |6           |4.5               |4.155             |1566             |108              |2016-04-30 20:56:15|\n",
      "|Quick Park Quick Shuttle          |Tucson|AZ   |28          |3.5               |3.745555555555551 |62188            |23100            |2015-05-09 18:33:50|\n",
      "|Sky Harbor Express                |Tucson|AZ   |31          |4.5               |3.735             |80580            |71196            |2011-09-24 16:40:18|\n",
      "|Tucson Airport Cab by 520 Express |Tucson|AZ   |28          |4.5               |3.6480000000000015|42868            |3724             |2014-02-18 17:28:14|\n",
      "|Xtreme Limousine                  |Tucson|AZ   |15          |4.5               |4.0               |5700             |345              |2016-04-02 01:01:21|\n",
      "|Yellow Cab                        |Tucson|AZ   |40          |1.5               |3.935714285714292 |108400           |93840            |2011-12-18 03:19:27|\n",
      "+----------------------------------+------+-----+------------+------------------+------------------+-----------------+-----------------+-------------------+\n",
      "\n"
     ]
    },
    {
     "name": "stderr",
     "output_type": "stream",
     "text": [
      "                                                                                \r"
     ]
    }
   ],
   "source": [
    "query7 = \"\"\"\n",
    "    SELECT DISTINCT\n",
    "        br.business_name,\n",
    "        br.city,\n",
    "        br.state,\n",
    "        br.review_count,\n",
    "        br.stars AS business_avg_stars,\n",
    "        AVG(ur.average_stars) AS user_avg_stars,\n",
    "        SUM(ur.user_review_count) AS user_review_count,\n",
    "        SUM(ur.compliment_funny + ur.compliment_cool + ur.compliment_hot + ur.compliment_photos) AS total_compliments,\n",
    "        MAX(ur.yelping_since) AS yelping_since\n",
    "    FROM\n",
    "        business_reviews br\n",
    "    JOIN\n",
    "        user_reviews ur\n",
    "    ON\n",
    "        br.business_id = ur.business_id\n",
    "    WHERE\n",
    "        br.state = 'AZ' AND\n",
    "        br.city IN ('Tucson', 'Phoenix') AND\n",
    "        ur.user_review_count > 100\n",
    "    GROUP BY\n",
    "        br.business_name,\n",
    "        br.city,\n",
    "        br.state,\n",
    "        br.review_count,\n",
    "        br.stars\n",
    "    ORDER BY\n",
    "        br.business_name\n",
    "    LIMIT 20\n",
    "\"\"\"\n",
    "result7_df = spark.sql(query7)\n",
    "result7_df.show(truncate=False)"
   ]
  },
  {
   "cell_type": "code",
   "execution_count": 28,
   "metadata": {},
   "outputs": [
    {
     "name": "stderr",
     "output_type": "stream",
     "text": [
      "                                                                                \r"
     ]
    }
   ],
   "source": [
    "tip_df = spark.read.json(\"file:///home/dps/Documents/yelp_dataset/yelp_academic_dataset_tip.json\")"
   ]
  },
  {
   "cell_type": "code",
   "execution_count": 29,
   "metadata": {},
   "outputs": [],
   "source": [
    "# airport_shuttles_az_business_df.printSchema()"
   ]
  },
  {
   "cell_type": "code",
   "execution_count": 30,
   "metadata": {},
   "outputs": [],
   "source": [
    "# tip_df.printSchema()"
   ]
  },
  {
   "cell_type": "code",
   "execution_count": 31,
   "metadata": {},
   "outputs": [],
   "source": [
    "# user_df.printSchema()"
   ]
  },
  {
   "cell_type": "code",
   "execution_count": 32,
   "metadata": {},
   "outputs": [],
   "source": [
    "tip_df = tip_df.withColumnRenamed(\"business_id\", \"tip_business_id\").withColumnRenamed(\"user_id\", \"tip_user_id\")"
   ]
  },
  {
   "cell_type": "code",
   "execution_count": 33,
   "metadata": {},
   "outputs": [],
   "source": [
    "airport_shuttles_az_business_tip_df = airport_shuttles_az_business_df.join(\n",
    "    tip_df, \n",
    "    airport_shuttles_az_business_df.business_id == tip_df.tip_business_id, \n",
    "    \"inner\"\n",
    ")"
   ]
  },
  {
   "cell_type": "code",
   "execution_count": 34,
   "metadata": {},
   "outputs": [],
   "source": [
    "airport_shuttles_az_business_tip_user_df = airport_shuttles_az_business_tip_df.join(\n",
    "    user_df, \n",
    "    airport_shuttles_az_business_tip_df.tip_user_id == user_df.user_id, \n",
    "    \"inner\"\n",
    ")"
   ]
  },
  {
   "cell_type": "code",
   "execution_count": 35,
   "metadata": {},
   "outputs": [],
   "source": [
    "# airport_shuttles_az_business_tip_df.printSchema()"
   ]
  },
  {
   "cell_type": "code",
   "execution_count": 36,
   "metadata": {},
   "outputs": [],
   "source": [
    "# airport_shuttles_az_business_tip_user_df.printSchema()"
   ]
  },
  {
   "cell_type": "code",
   "execution_count": 37,
   "metadata": {},
   "outputs": [],
   "source": [
    "airport_shuttles_az_business_tip_df.createOrReplaceTempView(\"business_tips\")\n",
    "airport_shuttles_az_business_tip_user_df.createOrReplaceTempView(\"user_tips\")"
   ]
  },
  {
   "cell_type": "code",
   "execution_count": 38,
   "metadata": {},
   "outputs": [
    {
     "name": "stderr",
     "output_type": "stream",
     "text": [
      "[Stage 88:===========================================>              (3 + 1) / 4]\r"
     ]
    },
    {
     "name": "stdout",
     "output_type": "stream",
     "text": [
      "+----------------------------+---------------------------------------------------------------------------------------------------------------------------------------------------------------------------------------------------------------------------------------------------------------------------------------------------------------------------------------+\n",
      "|business_name               |user_names                                                                                                                                                                                                                                                                                                                             |\n",
      "+----------------------------+---------------------------------------------------------------------------------------------------------------------------------------------------------------------------------------------------------------------------------------------------------------------------------------------------------------------------------------+\n",
      "|King Pin Cab Company        |Ceci, Ceci, Ceci, Ceci                                                                                                                                                                                                                                                                                                                 |\n",
      "|Adobe Transportation        |Dr Tim L                                                                                                                                                                                                                                                                                                                               |\n",
      "|FastPark & Relax            |Buck, Richard, Laura, Walt, D, David, Brenner, Buck, Richard, Laura, Walt, D, David, Brenner, Buck, Richard, Laura, Walt, D, David, Brenner, Buck, Richard, Laura, Walt, D, David, Brenner, Buck, Richard, Laura, Walt, D, David, Brenner, Buck, Richard, Laura, Walt, D, David, Brenner, Buck, Richard, Laura, Walt, D, David, Brenner|\n",
      "|24hr Express                |Tim, Randi, Tim, Randi                                                                                                                                                                                                                                                                                                                 |\n",
      "|Jeannie's Van & Taxi Service|Nj, Grant, Jazzy, Jazzy, Brittany, Brittany, Nj, Grant, Jazzy, Jazzy, Brittany, Brittany, Nj, Grant, Jazzy, Jazzy, Brittany, Brittany, Nj, Grant, Jazzy, Jazzy, Brittany, Brittany, Nj, Grant, Jazzy, Jazzy, Brittany, Brittany, Nj, Grant, Jazzy, Jazzy, Brittany, Brittany                                                           |\n",
      "+----------------------------+---------------------------------------------------------------------------------------------------------------------------------------------------------------------------------------------------------------------------------------------------------------------------------------------------------------------------------------+\n",
      "\n"
     ]
    },
    {
     "name": "stderr",
     "output_type": "stream",
     "text": [
      "                                                                                \r"
     ]
    }
   ],
   "source": [
    "query8 = \"\"\"\n",
    "    SELECT \n",
    "        b.business_name, \n",
    "        concat_ws(', ', collect_list(u.user_name)) AS user_names\n",
    "    FROM \n",
    "        business_tips b\n",
    "    JOIN \n",
    "        user_tips u\n",
    "    ON \n",
    "        b.business_id = u.business_id\n",
    "    GROUP BY \n",
    "        b.business_name\n",
    "    LIMIT 5\n",
    "\"\"\"\n",
    "result8_df = spark.sql(query8)\n",
    "result8_df.show(truncate=False)"
   ]
  },
  {
   "cell_type": "code",
   "execution_count": 39,
   "metadata": {},
   "outputs": [
    {
     "name": "stderr",
     "output_type": "stream",
     "text": [
      "[Stage 107:==========================================>              (3 + 1) / 4]\r"
     ]
    },
    {
     "name": "stdout",
     "output_type": "stream",
     "text": [
      "+----------------------------+---------------------------------------+---------+\n",
      "|               business_name|                             user_names|num_users|\n",
      "+----------------------------+---------------------------------------+---------+\n",
      "|            FastPark & Relax|Brenner,Walt,Richard,Laura,Buck,D,David|       49|\n",
      "|Jeannie's Van & Taxi Service|                Nj,Brittany,Jazzy,Grant|       36|\n",
      "|                  Yellow Cab|                            Denis,Katie|       36|\n",
      "|    Quick Park Quick Shuttle|                   Tera,Janine,Mark,Dee|       16|\n",
      "|          Sky Harbor Express|                              Halle,kim|        4|\n",
      "+----------------------------+---------------------------------------+---------+\n",
      "\n"
     ]
    },
    {
     "name": "stderr",
     "output_type": "stream",
     "text": [
      "                                                                                \r"
     ]
    }
   ],
   "source": [
    "query9 = \"\"\"\n",
    "    SELECT \n",
    "        b.business_name, \n",
    "        concat_ws(',', collect_list(DISTINCT u.user_name)) AS user_names,\n",
    "        COUNT(u.user_id) AS num_users\n",
    "    FROM \n",
    "        business_tips b\n",
    "    JOIN \n",
    "        user_tips u\n",
    "    ON \n",
    "        b.business_id = u.business_id\n",
    "    GROUP BY \n",
    "        b.business_name\n",
    "    ORDER BY \n",
    "        num_users DESC\n",
    "    LIMIT 5\n",
    "\"\"\"\n",
    "result9_df = spark.sql(query9)\n",
    "result9_df.show(truncate=50)"
   ]
  },
  {
   "cell_type": "code",
   "execution_count": 40,
   "metadata": {},
   "outputs": [
    {
     "data": {
      "text/plain": [
       "DataFrame[]"
      ]
     },
     "execution_count": 40,
     "metadata": {},
     "output_type": "execute_result"
    }
   ],
   "source": [
    "spark.sql(\"\"\"\n",
    "CREATE OR REPLACE TEMP VIEW elite_users AS\n",
    "SELECT ut.*, bt.business_name AS business_name_bt\n",
    "FROM user_tips ut\n",
    "JOIN business_tips bt\n",
    "ON ut.business_id = bt.business_id\n",
    "WHERE ut.elite IS NOT NULL\n",
    "\"\"\")"
   ]
  },
  {
   "cell_type": "code",
   "execution_count": 41,
   "metadata": {},
   "outputs": [
    {
     "data": {
      "text/plain": [
       "DataFrame[]"
      ]
     },
     "execution_count": 41,
     "metadata": {},
     "output_type": "execute_result"
    }
   ],
   "source": [
    "spark.sql(\"\"\"\n",
    "CREATE OR REPLACE TEMP VIEW non_elite_users AS\n",
    "SELECT ut.*, bt.business_name AS business_name_bt\n",
    "FROM user_tips ut\n",
    "JOIN business_tips bt\n",
    "ON ut.business_id = bt.business_id\n",
    "WHERE ut.elite IS NULL\n",
    "\"\"\")"
   ]
  },
  {
   "cell_type": "code",
   "execution_count": 42,
   "metadata": {},
   "outputs": [
    {
     "name": "stderr",
     "output_type": "stream",
     "text": [
      "                                                                                \r"
     ]
    },
    {
     "name": "stdout",
     "output_type": "stream",
     "text": [
      "+---------+---------------+-------------+------------------+----------+--------------------+\n",
      "|user_type|num_elite_users|total_reviews|  avg_user_reviews|total_fans|       business_name|\n",
      "+---------+---------------+-------------+------------------+----------+--------------------+\n",
      "|    elite|              8|           40|               2.0|         8|King Pin Cab Company|\n",
      "|    elite|              1|            7|             430.0|        40|Adobe Transportation|\n",
      "|    elite|            343|        14749|128.57142857142858|      4410|    FastPark & Relax|\n",
      "|    elite|              8|          184|               5.5|         0|        24hr Express|\n",
      "|    elite|            216|         2808|21.333333333333332|       144|Jeannie's Van & T...|\n",
      "|    elite|              1|           41|            1261.0|       211|  Arizona Stagecoach|\n",
      "|    elite|              8|          168|             156.0|       232|Groome Transporta...|\n",
      "|    elite|            216|         8640| 67.83333333333333|      3348|          Yellow Cab|\n",
      "|    elite|              1|           28|               4.0|         0|Tucson Airport Ca...|\n",
      "|    elite|              8|          248|              12.0|         4|  Sky Harbor Express|\n",
      "|    elite|             64|         1792|            182.75|       544|Quick Park Quick ...|\n",
      "|    elite|              8|          120|             138.0|       228|    Xtreme Limousine|\n",
      "|    elite|              8|          136|              42.0|        60|Tucson Resort Tra...|\n",
      "+---------+---------------+-------------+------------------+----------+--------------------+\n",
      "\n"
     ]
    }
   ],
   "source": [
    "query10 = \"\"\"\n",
    "SELECT \n",
    "    'elite' AS user_type,\n",
    "    COUNT(ut.user_id) AS num_elite_users,\n",
    "    SUM(ut.review_count) AS total_reviews,\n",
    "    AVG(ut.user_review_count) AS avg_user_reviews,\n",
    "    SUM(ut.fans) AS total_fans,\n",
    "    bt.business_name\n",
    "FROM elite_users ut\n",
    "JOIN business_tips bt\n",
    "ON ut.business_id = bt.business_id\n",
    "GROUP BY bt.business_name\n",
    "UNION ALL\n",
    "SELECT \n",
    "    'non-elite' AS user_type,\n",
    "    COUNT(ut.user_id) AS num_non_elite_users,\n",
    "    COALESCE(SUM(ut.review_count), 0) AS total_reviews_non_elite,\n",
    "    COALESCE(AVG(ut.user_review_count), 0) AS avg_user_reviews_non_elite,\n",
    "    COALESCE(SUM(ut.fans), 0) AS total_fans_non_elite,\n",
    "    bt.business_name\n",
    "FROM non_elite_users ut\n",
    "JOIN business_tips bt\n",
    "ON ut.business_id = bt.business_id\n",
    "GROUP BY bt.business_name\n",
    "\"\"\"\n",
    "result10_df = spark.sql(query10)\n",
    "result10_df.show(50)"
   ]
  },
  {
   "cell_type": "code",
   "execution_count": 43,
   "metadata": {},
   "outputs": [
    {
     "name": "stderr",
     "output_type": "stream",
     "text": [
      "                                                                                \r"
     ]
    },
    {
     "data": {
      "image/png": "[encoded data removed]",
      "text/plain": [
       "<Figure size 1200x800 with 1 Axes>"
      ]
     },
     "metadata": {},
     "output_type": "display_data"
    }
   ],
   "source": [
    "elite_data = result10_df.filter(result10_df.user_type == 'elite').toPandas()\n",
    "plt.figure(figsize=(12, 8))\n",
    "sns.barplot(x='total_reviews', y='business_name', data=elite_data, palette='viridis')\n",
    "plt.title('Total Reviews by Business for Elite Users', fontsize=16)\n",
    "plt.xlabel('Total Reviews', fontsize=12)\n",
    "plt.ylabel('Business Name', fontsize=12)\n",
    "plt.show()"
   ]
  }
 ],
 "metadata": {
  "kernelspec": {
   "display_name": "Python 3",
   "language": "python",
   "name": "python3"
  },
  "language_info": {
   "codemirror_mode": {
    "name": "ipython",
    "version": 3
   },
   "file_extension": ".py",
   "mimetype": "text/x-python",
   "name": "python",
   "nbconvert_exporter": "python",
   "pygments_lexer": "ipython3",
   "version": "3.10.12"
  }
 },
 "nbformat": 4,
 "nbformat_minor": 2
}
